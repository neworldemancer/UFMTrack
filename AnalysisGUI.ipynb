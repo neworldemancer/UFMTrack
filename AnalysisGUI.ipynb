{
 "cells": [
  {
   "metadata": {},
   "cell_type": "markdown",
   "source": "# Analysis of Under Flow Assays"
  },
  {
   "metadata": {},
   "cell_type": "markdown",
   "source": [
    "   Copyright 2015-2025, University of Bern,\n",
    "    Data Science Lab and Theodor Kocher Institute,\n",
    "    M. Vladymyrov\n",
    "\n",
    "   Licensed under the Apache License, Version 2.0 (the \"License\");\n",
    "   you may not use this file except in compliance with the License.\n",
    "   You may obtain a copy of the License at\n",
    "\n",
    "       http://www.apache.org/licenses/LICENSE-2.0\n",
    "\n",
    "   Unless required by applicable law or agreed to in writing, software\n",
    "   distributed under the License is distributed on an \"AS IS\" BASIS,\n",
    "   WITHOUT WARRANTIES OR CONDITIONS OF ANY KIND, either express or implied.\n",
    "   See the License for the specific language governing permissions and\n",
    "   limitations under the License.\n"
   ]
  },
  {
   "metadata": {
    "ExecuteTime": {
     "end_time": "2025-03-31T12:09:28.385940Z",
     "start_time": "2025-03-31T12:09:25.800750Z"
    }
   },
   "cell_type": "code",
   "source": [
    "import sys\n",
    "lib_root = r'g:\\IVFCA\\UFMTrack'\n",
    "sys.path.append(lib_root) # see the GitHub referenced in the paper\n",
    "\n",
    "from ana_gui import configure_analysis_gui, study_ui"
   ],
   "outputs": [],
   "execution_count": 1
  },
  {
   "metadata": {},
   "cell_type": "markdown",
   "source": "# Configure and synchronize segmented datasets"
  },
  {
   "metadata": {},
   "cell_type": "code",
   "source": "configure_analysis_gui()",
   "outputs": [],
   "execution_count": null
  },
  {
   "metadata": {},
   "cell_type": "markdown",
   "source": "# Perform a study"
  },
  {
   "metadata": {
    "ExecuteTime": {
     "end_time": "2025-03-31T12:09:35.059225Z",
     "start_time": "2025-03-31T12:09:34.979277Z"
    }
   },
   "cell_type": "code",
   "source": "study_ui()",
   "outputs": [
    {
     "data": {
      "text/plain": [
       "VBox(children=(VBox(children=(HTML(value='\\n    <style>\\n        .widget-label { min-width: 200px !important; …"
      ],
      "application/vnd.jupyter.widget-view+json": {
       "version_major": 2,
       "version_minor": 0,
       "model_id": "1fbe1a68399249778cb411711619fec1"
      }
     },
     "metadata": {},
     "output_type": "display_data"
    }
   ],
   "execution_count": 2
  }
 ],
 "metadata": {
  "kernelspec": {
   "display_name": "Python 3",
   "language": "python",
   "name": "python3"
  },
  "language_info": {
   "codemirror_mode": {
    "name": "ipython",
    "version": 3
   },
   "file_extension": ".py",
   "mimetype": "text/x-python",
   "name": "python",
   "nbconvert_exporter": "python",
   "pygments_lexer": "ipython3",
   "version": "3.8.18"
  }
 },
 "nbformat": 4,
 "nbformat_minor": 4
}
